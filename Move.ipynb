{
 "cells": [
  {
   "cell_type": "code",
   "execution_count": 9,
   "id": "da5e6666",
   "metadata": {},
   "outputs": [],
   "source": [
    "img_dir = \"images\"\n",
    "train_file = \"train.txt\"\n",
    "test_file = \"test.txt\"\n",
    "train_dir = \"train\"\n",
    "test_dir = \"test\""
   ]
  },
  {
   "cell_type": "code",
   "execution_count": 27,
   "id": "eeb04121",
   "metadata": {},
   "outputs": [],
   "source": [
    "import os\n",
    "\n",
    "def read_split(file):\n",
    "    with open(file) as f:\n",
    "        imgs = f.read()\n",
    "    imgs = imgs.split(\"\\n\")\n",
    "    imgs = list(set(imgs))\n",
    "    imgs = [os.path.basename(i) for i in imgs]\n",
    "    return imgs"
   ]
  },
  {
   "cell_type": "code",
   "execution_count": 28,
   "id": "85a04f55",
   "metadata": {},
   "outputs": [
    {
     "data": {
      "text/plain": [
       "['Screenshot_20230503-211431.jpg',\n",
       " 'Screenshot_20230411-155941.jpg',\n",
       " 'Screenshot_20230411-004409.jpg',\n",
       " 'Screenshot_20230503-150616.jpg',\n",
       " 'Screenshot_20230504-193012.jpg']"
      ]
     },
     "execution_count": 28,
     "metadata": {},
     "output_type": "execute_result"
    }
   ],
   "source": [
    "train_imgs = read_split(train_file)\n",
    "test_imgs = read_split(test_file)\n",
    "train_imgs[:5]"
   ]
  },
  {
   "cell_type": "code",
   "execution_count": 32,
   "id": "7397e60b",
   "metadata": {},
   "outputs": [],
   "source": [
    "import os\n",
    "from pathlib import Path\n",
    "import shutil\n",
    "\n",
    "def move_files(files, from_dir, to_dir):\n",
    "    os.makedirs(to_dir, exist_ok=True)\n",
    "    move_fn = os.rename\n",
    "    for file in files:\n",
    "        txt = f\"{Path(file).stem}.txt\"\n",
    "        try:\n",
    "            move_fn(os.path.join(from_dir, file), os.path.join(to_dir, file))\n",
    "        except FileNotFoundError:\n",
    "            pass\n",
    "        try:\n",
    "            move_fn(os.path.join(from_dir, txt), os.path.join(to_dir, txt))\n",
    "        except FileNotFoundError:\n",
    "            pass"
   ]
  },
  {
   "cell_type": "code",
   "execution_count": 33,
   "id": "4632c116",
   "metadata": {
    "scrolled": true
   },
   "outputs": [],
   "source": [
    "import os\n",
    "\n",
    "move_files(train_imgs, img_dir, os.path.join(img_dir, train_dir))\n",
    "move_files(test_imgs, img_dir, os.path.join(img_dir, test_dir))"
   ]
  },
  {
   "cell_type": "code",
   "execution_count": null,
   "id": "84525967",
   "metadata": {},
   "outputs": [],
   "source": []
  }
 ],
 "metadata": {
  "kernelspec": {
   "display_name": "Python 3 (ipykernel)",
   "language": "python",
   "name": "python3"
  },
  "language_info": {
   "codemirror_mode": {
    "name": "ipython",
    "version": 3
   },
   "file_extension": ".py",
   "mimetype": "text/x-python",
   "name": "python",
   "nbconvert_exporter": "python",
   "pygments_lexer": "ipython3",
   "version": "3.10.9"
  },
  "toc": {
   "base_numbering": 1,
   "nav_menu": {},
   "number_sections": true,
   "sideBar": true,
   "skip_h1_title": false,
   "title_cell": "Table of Contents",
   "title_sidebar": "Contents",
   "toc_cell": false,
   "toc_position": {},
   "toc_section_display": true,
   "toc_window_display": false
  }
 },
 "nbformat": 4,
 "nbformat_minor": 5
}
