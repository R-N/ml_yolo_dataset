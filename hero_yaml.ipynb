{
 "cells": [
  {
   "cell_type": "code",
   "execution_count": 3,
   "id": "0b1a17ed-cec9-4faa-95c1-b5b984ddef9f",
   "metadata": {},
   "outputs": [],
   "source": [
    "import pandas as pd"
   ]
  },
  {
   "cell_type": "code",
   "execution_count": 19,
   "id": "d4544885-1c60-43ca-a773-48179fd516f3",
   "metadata": {},
   "outputs": [
    {
     "data": {
      "text/html": [
       "<div>\n",
       "<style scoped>\n",
       "    .dataframe tbody tr th:only-of-type {\n",
       "        vertical-align: middle;\n",
       "    }\n",
       "\n",
       "    .dataframe tbody tr th {\n",
       "        vertical-align: top;\n",
       "    }\n",
       "\n",
       "    .dataframe thead th {\n",
       "        text-align: right;\n",
       "    }\n",
       "</style>\n",
       "<table border=\"1\" class=\"dataframe\">\n",
       "  <thead>\n",
       "    <tr style=\"text-align: right;\">\n",
       "      <th></th>\n",
       "      <th>id</th>\n",
       "      <th>name</th>\n",
       "      <th>roles</th>\n",
       "      <th>specialities</th>\n",
       "      <th>lane</th>\n",
       "      <th>icon</th>\n",
       "    </tr>\n",
       "  </thead>\n",
       "  <tbody>\n",
       "    <tr>\n",
       "      <th>0</th>\n",
       "      <td>13</td>\n",
       "      <td>Miya</td>\n",
       "      <td>Marksman</td>\n",
       "      <td>Reap,Damage</td>\n",
       "      <td>Gold Laner</td>\n",
       "      <td>https://static.wikia.nocookie.net/mobile-legen...</td>\n",
       "    </tr>\n",
       "    <tr>\n",
       "      <th>1</th>\n",
       "      <td>14</td>\n",
       "      <td>Balmond</td>\n",
       "      <td>Fighter</td>\n",
       "      <td>Damage,Regen</td>\n",
       "      <td>EXP Laner</td>\n",
       "      <td>https://static.wikia.nocookie.net/mobile-legen...</td>\n",
       "    </tr>\n",
       "    <tr>\n",
       "      <th>2</th>\n",
       "      <td>15</td>\n",
       "      <td>Saber</td>\n",
       "      <td>Assassin</td>\n",
       "      <td>Charge,Reap</td>\n",
       "      <td>Jungler</td>\n",
       "      <td>https://static.wikia.nocookie.net/mobile-legen...</td>\n",
       "    </tr>\n",
       "    <tr>\n",
       "      <th>3</th>\n",
       "      <td>16</td>\n",
       "      <td>Alice</td>\n",
       "      <td>Mage,Tank</td>\n",
       "      <td>Charge,Regen</td>\n",
       "      <td>Mid Laner</td>\n",
       "      <td>https://static.wikia.nocookie.net/mobile-legen...</td>\n",
       "    </tr>\n",
       "    <tr>\n",
       "      <th>4</th>\n",
       "      <td>17</td>\n",
       "      <td>Nana</td>\n",
       "      <td>Mage,Support</td>\n",
       "      <td>Poke,Burst</td>\n",
       "      <td>Mid Laner</td>\n",
       "      <td>https://static.wikia.nocookie.net/mobile-legen...</td>\n",
       "    </tr>\n",
       "  </tbody>\n",
       "</table>\n",
       "</div>"
      ],
      "text/plain": [
       "   id     name         roles  specialities        lane  \\\n",
       "0  13     Miya      Marksman   Reap,Damage  Gold Laner   \n",
       "1  14  Balmond       Fighter  Damage,Regen   EXP Laner   \n",
       "2  15    Saber      Assassin   Charge,Reap     Jungler   \n",
       "3  16    Alice     Mage,Tank  Charge,Regen   Mid Laner   \n",
       "4  17     Nana  Mage,Support    Poke,Burst   Mid Laner   \n",
       "\n",
       "                                                icon  \n",
       "0  https://static.wikia.nocookie.net/mobile-legen...  \n",
       "1  https://static.wikia.nocookie.net/mobile-legen...  \n",
       "2  https://static.wikia.nocookie.net/mobile-legen...  \n",
       "3  https://static.wikia.nocookie.net/mobile-legen...  \n",
       "4  https://static.wikia.nocookie.net/mobile-legen...  "
      ]
     },
     "execution_count": 19,
     "metadata": {},
     "output_type": "execute_result"
    }
   ],
   "source": [
    "df_heroes = pd.read_csv(\"heroes.csv\")#, index_col=0)\n",
    "offset = 12\n",
    "df_heroes[\"id\"] += offset\n",
    "df_heroes.head()"
   ]
  },
  {
   "cell_type": "code",
   "execution_count": 20,
   "id": "97a5c879-6c38-4083-9ad1-4722829c8bdf",
   "metadata": {},
   "outputs": [
    {
     "data": {
      "text/plain": [
       "{'id': 13,\n",
       " 'name': 'Miya',\n",
       " 'roles': 'Marksman',\n",
       " 'specialities': 'Reap,Damage',\n",
       " 'lane': 'Gold Laner',\n",
       " 'icon': 'https://static.wikia.nocookie.net/mobile-legends/images/8/8c/Hero011-icon.png/revision/latest?cb=20220116062831'}"
      ]
     },
     "execution_count": 20,
     "metadata": {},
     "output_type": "execute_result"
    }
   ],
   "source": [
    "objs = df_heroes.to_dict(\"records\")\n",
    "objs[0]"
   ]
  },
  {
   "cell_type": "code",
   "execution_count": 21,
   "id": "953db36d-8a77-44d1-8ac4-3f79eae89fd6",
   "metadata": {},
   "outputs": [
    {
     "data": {
      "text/plain": [
       "\"13: 'Miya'\""
      ]
     },
     "execution_count": 21,
     "metadata": {},
     "output_type": "execute_result"
    }
   ],
   "source": [
    "lines = [f\"{o['id']}: '{o['name']}'\" for o in objs]\n",
    "lines[0]"
   ]
  },
  {
   "cell_type": "code",
   "execution_count": 22,
   "id": "4152987d-49bc-429c-9c1d-8a81e46b2c2a",
   "metadata": {},
   "outputs": [
    {
     "data": {
      "text/plain": [
       "\"13: 'Miya'\\n14: 'Balmond'\\n15: 'Saber'\\n16: 'Alice'\\n17: 'Nana'\\n18: 'Tigreal'\\n19: 'Alucard'\\n20: 'Karina'\\n21: 'Akai'\\n22: 'Franco'\\n23: 'Bane'\\n24: 'Bruno'\\n25: 'Clint'\\n26: 'Rafaela'\\n27: 'Eudora'\\n28: 'Zilong'\\n29: 'Fanny'\\n30: 'Layla'\\n31: 'Minotaur'\\n32: 'Lolita'\\n33: 'Hayabusa'\\n34: 'Freya'\\n35: 'Gord'\\n36: 'Natalia'\\n37: 'Kagura'\\n38: 'Chou'\\n39: 'Sun'\\n40: 'Alpha'\\n41: 'Ruby'\\n42: 'Yi Sun-shin'\\n43: 'Moskov'\\n44: 'Johnson'\\n45: 'Cyclops'\\n46: 'Estes'\\n47: 'Hilda'\\n48: 'Aurora'\\n49: 'Lapu-Lapu'\\n50: 'Vexana'\\n51: 'Roger'\\n52: 'Karrie'\\n53: 'Gatotkaca'\\n54: 'Harley'\\n55: 'Irithel'\\n56: 'Grock'\\n57: 'Argus'\\n58: 'Odette'\\n59: 'Lancelot'\\n60: 'Diggie'\\n61: 'Hylos'\\n62: 'Zhask'\\n63: 'Helcurt'\\n64: 'Pharsa'\\n65: 'Lesley'\\n66: 'Jawhead'\\n67: 'Angela'\\n68: 'Gusion'\\n69: 'Valir'\\n70: 'Martis'\\n71: 'Uranus'\\n72: 'Hanabi'\\n73: 'Chang'e'\\n74: 'Kaja'\\n75: 'Selena'\\n76: 'Aldous'\\n77: 'Claude'\\n78: 'Vale'\\n79: 'Leomord'\\n80: 'Lunox'\\n81: 'Hanzo'\\n82: 'Belerick'\\n83: 'Kimmy'\\n84: 'Thamuz'\\n85: 'Harith'\\n86: 'Minsitthar'\\n87: 'Kadita'\\n88: 'Faramis'\\n89: 'Badang'\\n90: 'Khufra'\\n91: 'Granger'\\n92: 'Guinevere'\\n93: 'Esmeralda'\\n94: 'Terizla'\\n95: 'X.Borg'\\n96: 'Ling'\\n97: 'Dyrroth'\\n98: 'Lylia'\\n99: 'Baxia'\\n100: 'Masha'\\n101: 'Wanwan'\\n102: 'Silvanna'\\n103: 'Carmilla'\\n104: 'Cecilion'\\n105: 'Atlas'\\n106: 'Popol and Kupa'\\n107: 'Yu Zhong'\\n108: 'Luo Yi'\\n109: 'Benedetta'\\n110: 'Khaleed'\\n111: 'Barats'\\n112: 'Brody'\\n113: 'Yve'\\n114: 'Mathilda'\\n115: 'Paquito'\\n116: 'Gloo'\\n117: 'Beatrix'\\n118: 'Phoveus'\\n119: 'Natan'\\n120: 'Aulus'\\n121: 'Aamon'\\n122: 'Floryn'\\n123: 'Valentina'\\n124: 'Edith'\\n125: 'Yin'\\n126: 'Melissa'\\n127: 'Xavier'\\n128: 'Julian'\\n129: 'Fredrinn'\\n130: 'Joy'\\n131: 'Novaria'\\n132: 'Arlott'\""
      ]
     },
     "execution_count": 22,
     "metadata": {},
     "output_type": "execute_result"
    }
   ],
   "source": [
    "text = \"\\n\".join(lines)\n",
    "text"
   ]
  },
  {
   "cell_type": "code",
   "execution_count": 24,
   "id": "69a078db-e877-439f-b860-99911efc89ed",
   "metadata": {},
   "outputs": [],
   "source": [
    "with open(\"heroes.yaml\", \"w\") as f:\n",
    "    f.write(text)"
   ]
  },
  {
   "cell_type": "code",
   "execution_count": 26,
   "id": "50c65ec5-169d-4b11-bd64-1a8dd5196a64",
   "metadata": {},
   "outputs": [
    {
     "data": {
      "text/plain": [
       "{'Miya': 13,\n",
       " 'Balmond': 14,\n",
       " 'Saber': 15,\n",
       " 'Alice': 16,\n",
       " 'Nana': 17,\n",
       " 'Tigreal': 18,\n",
       " 'Alucard': 19,\n",
       " 'Karina': 20,\n",
       " 'Akai': 21,\n",
       " 'Franco': 22,\n",
       " 'Bane': 23,\n",
       " 'Bruno': 24,\n",
       " 'Clint': 25,\n",
       " 'Rafaela': 26,\n",
       " 'Eudora': 27,\n",
       " 'Zilong': 28,\n",
       " 'Fanny': 29,\n",
       " 'Layla': 30,\n",
       " 'Minotaur': 31,\n",
       " 'Lolita': 32,\n",
       " 'Hayabusa': 33,\n",
       " 'Freya': 34,\n",
       " 'Gord': 35,\n",
       " 'Natalia': 36,\n",
       " 'Kagura': 37,\n",
       " 'Chou': 38,\n",
       " 'Sun': 39,\n",
       " 'Alpha': 40,\n",
       " 'Ruby': 41,\n",
       " 'Yi Sun-shin': 42,\n",
       " 'Moskov': 43,\n",
       " 'Johnson': 44,\n",
       " 'Cyclops': 45,\n",
       " 'Estes': 46,\n",
       " 'Hilda': 47,\n",
       " 'Aurora': 48,\n",
       " 'Lapu-Lapu': 49,\n",
       " 'Vexana': 50,\n",
       " 'Roger': 51,\n",
       " 'Karrie': 52,\n",
       " 'Gatotkaca': 53,\n",
       " 'Harley': 54,\n",
       " 'Irithel': 55,\n",
       " 'Grock': 56,\n",
       " 'Argus': 57,\n",
       " 'Odette': 58,\n",
       " 'Lancelot': 59,\n",
       " 'Diggie': 60,\n",
       " 'Hylos': 61,\n",
       " 'Zhask': 62,\n",
       " 'Helcurt': 63,\n",
       " 'Pharsa': 64,\n",
       " 'Lesley': 65,\n",
       " 'Jawhead': 66,\n",
       " 'Angela': 67,\n",
       " 'Gusion': 68,\n",
       " 'Valir': 69,\n",
       " 'Martis': 70,\n",
       " 'Uranus': 71,\n",
       " 'Hanabi': 72,\n",
       " \"Chang'e\": 73,\n",
       " 'Kaja': 74,\n",
       " 'Selena': 75,\n",
       " 'Aldous': 76,\n",
       " 'Claude': 77,\n",
       " 'Vale': 78,\n",
       " 'Leomord': 79,\n",
       " 'Lunox': 80,\n",
       " 'Hanzo': 81,\n",
       " 'Belerick': 82,\n",
       " 'Kimmy': 83,\n",
       " 'Thamuz': 84,\n",
       " 'Harith': 85,\n",
       " 'Minsitthar': 86,\n",
       " 'Kadita': 87,\n",
       " 'Faramis': 88,\n",
       " 'Badang': 89,\n",
       " 'Khufra': 90,\n",
       " 'Granger': 91,\n",
       " 'Guinevere': 92,\n",
       " 'Esmeralda': 93,\n",
       " 'Terizla': 94,\n",
       " 'X.Borg': 95,\n",
       " 'Ling': 96,\n",
       " 'Dyrroth': 97,\n",
       " 'Lylia': 98,\n",
       " 'Baxia': 99,\n",
       " 'Masha': 100,\n",
       " 'Wanwan': 101,\n",
       " 'Silvanna': 102,\n",
       " 'Carmilla': 103,\n",
       " 'Cecilion': 104,\n",
       " 'Atlas': 105,\n",
       " 'Popol and Kupa': 106,\n",
       " 'Yu Zhong': 107,\n",
       " 'Luo Yi': 108,\n",
       " 'Benedetta': 109,\n",
       " 'Khaleed': 110,\n",
       " 'Barats': 111,\n",
       " 'Brody': 112,\n",
       " 'Yve': 113,\n",
       " 'Mathilda': 114,\n",
       " 'Paquito': 115,\n",
       " 'Gloo': 116,\n",
       " 'Beatrix': 117,\n",
       " 'Phoveus': 118,\n",
       " 'Natan': 119,\n",
       " 'Aulus': 120,\n",
       " 'Aamon': 121,\n",
       " 'Floryn': 122,\n",
       " 'Valentina': 123,\n",
       " 'Edith': 124,\n",
       " 'Yin': 125,\n",
       " 'Melissa': 126,\n",
       " 'Xavier': 127,\n",
       " 'Julian': 128,\n",
       " 'Fredrinn': 129,\n",
       " 'Joy': 130,\n",
       " 'Novaria': 131,\n",
       " 'Arlott': 132}"
      ]
     },
     "execution_count": 26,
     "metadata": {},
     "output_type": "execute_result"
    }
   ],
   "source": [
    "name2id = {o[\"name\"]: o[\"id\"] for o in objs}\n",
    "name2id"
   ]
  },
  {
   "cell_type": "code",
   "execution_count": 27,
   "id": "143e1843-e541-4e59-9a27-460c471dc65a",
   "metadata": {},
   "outputs": [],
   "source": [
    "import json\n",
    "\n",
    "with open(\"hero2id.json\", \"w\") as f:\n",
    "    json.dump(name2id, f)"
   ]
  },
  {
   "cell_type": "code",
   "execution_count": null,
   "id": "cfdc42ec-db56-4e05-ad22-12c4a81b3db8",
   "metadata": {},
   "outputs": [],
   "source": []
  }
 ],
 "metadata": {
  "kernelspec": {
   "display_name": "Python 3 (ipykernel)",
   "language": "python",
   "name": "python3"
  },
  "language_info": {
   "codemirror_mode": {
    "name": "ipython",
    "version": 3
   },
   "file_extension": ".py",
   "mimetype": "text/x-python",
   "name": "python",
   "nbconvert_exporter": "python",
   "pygments_lexer": "ipython3",
   "version": "3.10.9"
  }
 },
 "nbformat": 4,
 "nbformat_minor": 5
}
