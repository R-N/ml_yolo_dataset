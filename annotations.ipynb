{
 "cells": [
  {
   "cell_type": "code",
   "execution_count": 1,
   "id": "8b1e1519-033c-4313-9193-e440f30d6991",
   "metadata": {},
   "outputs": [],
   "source": [
    "import pandas as pd"
   ]
  },
  {
   "cell_type": "code",
   "execution_count": 16,
   "id": "43784106-d45d-4888-b944-a7494d656f50",
   "metadata": {},
   "outputs": [
    {
     "name": "stdout",
     "output_type": "stream",
     "text": [
      "5310\n"
     ]
    },
    {
     "data": {
      "text/html": [
       "<div>\n",
       "<style scoped>\n",
       "    .dataframe tbody tr th:only-of-type {\n",
       "        vertical-align: middle;\n",
       "    }\n",
       "\n",
       "    .dataframe tbody tr th {\n",
       "        vertical-align: top;\n",
       "    }\n",
       "\n",
       "    .dataframe thead th {\n",
       "        text-align: right;\n",
       "    }\n",
       "</style>\n",
       "<table border=\"1\" class=\"dataframe\">\n",
       "  <thead>\n",
       "    <tr style=\"text-align: right;\">\n",
       "      <th></th>\n",
       "      <th>file</th>\n",
       "      <th>match_result</th>\n",
       "      <th>left_heroes</th>\n",
       "      <th>right_heroes</th>\n",
       "      <th>left_medals</th>\n",
       "      <th>right_medals</th>\n",
       "    </tr>\n",
       "  </thead>\n",
       "  <tbody>\n",
       "    <tr>\n",
       "      <th>0</th>\n",
       "      <td>Screenshot_20230410-234927.jpg</td>\n",
       "      <td>Victory</td>\n",
       "      <td>['Silvanna', 'Claude', 'Paquito', 'Gord', 'Mar...</td>\n",
       "      <td>['Edith', 'Pharsa', 'Brody', 'Angela', 'Ling']</td>\n",
       "      <td>['Gold', 'Gold', 'Gold', 'Silver', 'MVP Win']</td>\n",
       "      <td>['Gold', 'Silver', 'Bronze', 'Silver', 'MVP Lo...</td>\n",
       "    </tr>\n",
       "    <tr>\n",
       "      <th>1</th>\n",
       "      <td>Screenshot_20230410-234936.jpg</td>\n",
       "      <td>Defeat</td>\n",
       "      <td>['Estes', 'Pharsa', 'Fredrinn', 'Moskov', 'Sil...</td>\n",
       "      <td>['Lapu-Lapu', 'Lesley', 'Xavier', 'Martis', 'A...</td>\n",
       "      <td>['Bronze', 'Bronze', 'Bronze', 'Bronze', 'Bron...</td>\n",
       "      <td>['Gold', 'Gold', 'Gold', 'MVP Win', 'Gold']</td>\n",
       "    </tr>\n",
       "    <tr>\n",
       "      <th>2</th>\n",
       "      <td>Screenshot_20230410-234954.jpg</td>\n",
       "      <td>Victory</td>\n",
       "      <td>['Melissa', 'Gusion', 'Atlas', 'Karina', 'Silv...</td>\n",
       "      <td>['Kaja', 'Beatrix', 'Valentina', 'Lolita', 'Fa...</td>\n",
       "      <td>['Gold', 'Bronze', 'Gold', 'Gold', 'MVP Win']</td>\n",
       "      <td>['Silver', 'Silver', 'Silver', 'Gold', 'MVP Lo...</td>\n",
       "    </tr>\n",
       "    <tr>\n",
       "      <th>3</th>\n",
       "      <td>Screenshot_20230410-235003.jpg</td>\n",
       "      <td>Defeat</td>\n",
       "      <td>['Freya', 'Brody', 'Silvanna', 'Lancelot', 'Ju...</td>\n",
       "      <td>['Valentina', 'Kadita', 'Terizla', 'Wanwan', '...</td>\n",
       "      <td>['Silver', 'Bronze', 'Silver', 'Silver', 'Bron...</td>\n",
       "      <td>['Silver', 'Gold', 'Gold', 'MVP Win', 'Gold']</td>\n",
       "    </tr>\n",
       "    <tr>\n",
       "      <th>4</th>\n",
       "      <td>Screenshot_20230410-235023.jpg</td>\n",
       "      <td>Victory</td>\n",
       "      <td>['Arlott', 'Lolita', 'Lesley', 'Pharsa', 'Silv...</td>\n",
       "      <td>['Melissa', 'Valir', 'Aldous', 'Franco', 'Fred...</td>\n",
       "      <td>['Gold', 'MVP Win', 'Gold', 'Gold', 'Gold']</td>\n",
       "      <td>['Bronze', 'Bronze', 'MVP Lose', 'Bronze', 'Br...</td>\n",
       "    </tr>\n",
       "  </tbody>\n",
       "</table>\n",
       "</div>"
      ],
      "text/plain": [
       "                             file match_result  \\\n",
       "0  Screenshot_20230410-234927.jpg      Victory   \n",
       "1  Screenshot_20230410-234936.jpg       Defeat   \n",
       "2  Screenshot_20230410-234954.jpg      Victory   \n",
       "3  Screenshot_20230410-235003.jpg       Defeat   \n",
       "4  Screenshot_20230410-235023.jpg      Victory   \n",
       "\n",
       "                                         left_heroes  \\\n",
       "0  ['Silvanna', 'Claude', 'Paquito', 'Gord', 'Mar...   \n",
       "1  ['Estes', 'Pharsa', 'Fredrinn', 'Moskov', 'Sil...   \n",
       "2  ['Melissa', 'Gusion', 'Atlas', 'Karina', 'Silv...   \n",
       "3  ['Freya', 'Brody', 'Silvanna', 'Lancelot', 'Ju...   \n",
       "4  ['Arlott', 'Lolita', 'Lesley', 'Pharsa', 'Silv...   \n",
       "\n",
       "                                        right_heroes  \\\n",
       "0     ['Edith', 'Pharsa', 'Brody', 'Angela', 'Ling']   \n",
       "1  ['Lapu-Lapu', 'Lesley', 'Xavier', 'Martis', 'A...   \n",
       "2  ['Kaja', 'Beatrix', 'Valentina', 'Lolita', 'Fa...   \n",
       "3  ['Valentina', 'Kadita', 'Terizla', 'Wanwan', '...   \n",
       "4  ['Melissa', 'Valir', 'Aldous', 'Franco', 'Fred...   \n",
       "\n",
       "                                         left_medals  \\\n",
       "0      ['Gold', 'Gold', 'Gold', 'Silver', 'MVP Win']   \n",
       "1  ['Bronze', 'Bronze', 'Bronze', 'Bronze', 'Bron...   \n",
       "2      ['Gold', 'Bronze', 'Gold', 'Gold', 'MVP Win']   \n",
       "3  ['Silver', 'Bronze', 'Silver', 'Silver', 'Bron...   \n",
       "4        ['Gold', 'MVP Win', 'Gold', 'Gold', 'Gold']   \n",
       "\n",
       "                                        right_medals  \n",
       "0  ['Gold', 'Silver', 'Bronze', 'Silver', 'MVP Lo...  \n",
       "1        ['Gold', 'Gold', 'Gold', 'MVP Win', 'Gold']  \n",
       "2  ['Silver', 'Silver', 'Silver', 'Gold', 'MVP Lo...  \n",
       "3      ['Silver', 'Gold', 'Gold', 'MVP Win', 'Gold']  \n",
       "4  ['Bronze', 'Bronze', 'MVP Lose', 'Bronze', 'Br...  "
      ]
     },
     "execution_count": 16,
     "metadata": {},
     "output_type": "execute_result"
    }
   ],
   "source": [
    "results = pd.read_csv(\"results.csv\", index_col=0)\n",
    "results[\"file\"] = results[\"file\"].str.rsplit(\"/\", n=1).str[-1]\n",
    "results = results.drop_duplicates(subset=['file'], keep=False)\n",
    "results = results[[\"file\", \"match_result\", \"left_heroes\", \"right_heroes\", \"left_medals\", \"right_medals\"]]\n",
    "print(len(results))\n",
    "results.head()"
   ]
  },
  {
   "cell_type": "code",
   "execution_count": 59,
   "id": "02e0100c-b1fd-4233-b534-17cc051b5342",
   "metadata": {},
   "outputs": [
    {
     "data": {
      "text/plain": [
       "{'Victory': 0,\n",
       " 'Defeat': 1,\n",
       " 'Invalid': 2,\n",
       " 'left_kill': 3,\n",
       " 'right_kill': 4,\n",
       " 'battle_id': 5,\n",
       " 'match_duration': 6,\n",
       " 'MVP Win': 7,\n",
       " 'MVP Lose': 8,\n",
       " 'Gold': 9,\n",
       " 'Silver': 10,\n",
       " 'Bronze': 11,\n",
       " 'AFK': 12,\n",
       " 'Miya': 13,\n",
       " 'Balmond': 14,\n",
       " 'Saber': 15,\n",
       " 'Alice': 16,\n",
       " 'Nana': 17,\n",
       " 'Tigreal': 18,\n",
       " 'Alucard': 19,\n",
       " 'Karina': 20,\n",
       " 'Akai': 21,\n",
       " 'Franco': 22,\n",
       " 'Bane': 23,\n",
       " 'Bruno': 24,\n",
       " 'Clint': 25,\n",
       " 'Rafaela': 26,\n",
       " 'Eudora': 27,\n",
       " 'Zilong': 28,\n",
       " 'Fanny': 29,\n",
       " 'Layla': 30,\n",
       " 'Minotaur': 31,\n",
       " 'Lolita': 32,\n",
       " 'Hayabusa': 33,\n",
       " 'Freya': 34,\n",
       " 'Gord': 35,\n",
       " 'Natalia': 36,\n",
       " 'Kagura': 37,\n",
       " 'Chou': 38,\n",
       " 'Sun': 39,\n",
       " 'Alpha': 40,\n",
       " 'Ruby': 41,\n",
       " 'Yi Sun-shin': 42,\n",
       " 'Moskov': 43,\n",
       " 'Johnson': 44,\n",
       " 'Cyclops': 45,\n",
       " 'Estes': 46,\n",
       " 'Hilda': 47,\n",
       " 'Aurora': 48,\n",
       " 'Lapu-Lapu': 49,\n",
       " 'Vexana': 50,\n",
       " 'Roger': 51,\n",
       " 'Karrie': 52,\n",
       " 'Gatotkaca': 53,\n",
       " 'Harley': 54,\n",
       " 'Irithel': 55,\n",
       " 'Grock': 56,\n",
       " 'Argus': 57,\n",
       " 'Odette': 58,\n",
       " 'Lancelot': 59,\n",
       " 'Diggie': 60,\n",
       " 'Hylos': 61,\n",
       " 'Zhask': 62,\n",
       " 'Helcurt': 63,\n",
       " 'Pharsa': 64,\n",
       " 'Lesley': 65,\n",
       " 'Jawhead': 66,\n",
       " 'Angela': 67,\n",
       " 'Gusion': 68,\n",
       " 'Valir': 69,\n",
       " 'Martis': 70,\n",
       " 'Uranus': 71,\n",
       " 'Hanabi': 72,\n",
       " \"Chang'e\": 73,\n",
       " 'Kaja': 74,\n",
       " 'Selena': 75,\n",
       " 'Aldous': 76,\n",
       " 'Claude': 77,\n",
       " 'Vale': 78,\n",
       " 'Leomord': 79,\n",
       " 'Lunox': 80,\n",
       " 'Hanzo': 81,\n",
       " 'Belerick': 82,\n",
       " 'Kimmy': 83,\n",
       " 'Thamuz': 84,\n",
       " 'Harith': 85,\n",
       " 'Minsitthar': 86,\n",
       " 'Kadita': 87,\n",
       " 'Faramis': 88,\n",
       " 'Badang': 89,\n",
       " 'Khufra': 90,\n",
       " 'Granger': 91,\n",
       " 'Guinevere': 92,\n",
       " 'Esmeralda': 93,\n",
       " 'Terizla': 94,\n",
       " 'X.Borg': 95,\n",
       " 'Ling': 96,\n",
       " 'Dyrroth': 97,\n",
       " 'Lylia': 98,\n",
       " 'Baxia': 99,\n",
       " 'Masha': 100,\n",
       " 'Wanwan': 101,\n",
       " 'Silvanna': 102,\n",
       " 'Carmilla': 103,\n",
       " 'Cecilion': 104,\n",
       " 'Atlas': 105,\n",
       " 'Popol and Kupa': 106,\n",
       " 'Yu Zhong': 107,\n",
       " 'Luo Yi': 108,\n",
       " 'Benedetta': 109,\n",
       " 'Khaleed': 110,\n",
       " 'Barats': 111,\n",
       " 'Brody': 112,\n",
       " 'Yve': 113,\n",
       " 'Mathilda': 114,\n",
       " 'Paquito': 115,\n",
       " 'Gloo': 116,\n",
       " 'Beatrix': 117,\n",
       " 'Phoveus': 118,\n",
       " 'Natan': 119,\n",
       " 'Aulus': 120,\n",
       " 'Aamon': 121,\n",
       " 'Floryn': 122,\n",
       " 'Valentina': 123,\n",
       " 'Edith': 124,\n",
       " 'Yin': 125,\n",
       " 'Melissa': 126,\n",
       " 'Xavier': 127,\n",
       " 'Julian': 128,\n",
       " 'Fredrinn': 129,\n",
       " 'Joy': 130,\n",
       " 'Novaria': 131,\n",
       " 'Arlott': 132}"
      ]
     },
     "execution_count": 59,
     "metadata": {},
     "output_type": "execute_result"
    }
   ],
   "source": [
    "import json\n",
    "\n",
    "with open(\"name2id.json\") as f:\n",
    "    name2id = json.load(f)\n",
    "name2id"
   ]
  },
  {
   "cell_type": "code",
   "execution_count": 60,
   "id": "e3e5b272-92e3-4339-a51c-9a29d55fbf8d",
   "metadata": {},
   "outputs": [
    {
     "data": {
      "text/plain": [
       "{'file': 'Screenshot_20230410-234927.jpg',\n",
       " 'match_result': 'Victory',\n",
       " 'left_heroes': \"['Silvanna', 'Claude', 'Paquito', 'Gord', 'Martis']\",\n",
       " 'right_heroes': \"['Edith', 'Pharsa', 'Brody', 'Angela', 'Ling']\",\n",
       " 'left_medals': \"['Gold', 'Gold', 'Gold', 'Silver', 'MVP Win']\",\n",
       " 'right_medals': \"['Gold', 'Silver', 'Bronze', 'Silver', 'MVP Lose']\"}"
      ]
     },
     "execution_count": 60,
     "metadata": {},
     "output_type": "execute_result"
    }
   ],
   "source": [
    "objs = results.to_dict(\"records\")\n",
    "objs[0]"
   ]
  },
  {
   "cell_type": "code",
   "execution_count": 61,
   "id": "b70c28d4-9fb2-49be-a510-af7a7218533e",
   "metadata": {},
   "outputs": [
    {
     "data": {
      "text/plain": [
       "{'file': 'Screenshot_20230410-234927.jpg',\n",
       " 'match_result': 0,\n",
       " 'left_heroes': [102, 77, 115, 35, 70],\n",
       " 'right_heroes': [124, 64, 112, 67, 96],\n",
       " 'left_medals': [9, 9, 9, 10, 7],\n",
       " 'right_medals': [9, 10, 11, 10, 8]}"
      ]
     },
     "execution_count": 61,
     "metadata": {},
     "output_type": "execute_result"
    }
   ],
   "source": [
    "def heroes2id(heroes):\n",
    "    if isinstance(heroes, str):\n",
    "        heroes = eval(heroes)\n",
    "    return [name2id[h] for h in heroes]\n",
    "\n",
    "def obj2id(obj):\n",
    "    obj = dict(obj)\n",
    "    obj[\"match_result\"] = name2id[obj[\"match_result\"]]\n",
    "    obj[\"left_heroes\"] = heroes2id(obj[\"left_heroes\"])\n",
    "    obj[\"right_heroes\"] = heroes2id(obj[\"right_heroes\"])\n",
    "    obj[\"left_medals\"] = heroes2id(obj[\"left_medals\"])\n",
    "    obj[\"right_medals\"] = heroes2id(obj[\"right_medals\"])\n",
    "    return obj\n",
    "\n",
    "obj_ids = [obj2id(o) for o in objs]\n",
    "obj_ids[0]"
   ]
  },
  {
   "cell_type": "code",
   "execution_count": 62,
   "id": "9eb93658-f436-4a7e-bb83-99f21ed2b3f4",
   "metadata": {},
   "outputs": [
    {
     "data": {
      "text/plain": [
       "'left_hero_0 0.131532 0.29961925 0.06352 0.108844\\nleft_hero_1 0.131532 0.42557325 0.06352 0.108844\\nleft_hero_2 0.131532 0.55899625 0.06352 0.108844\\nleft_hero_3 0.131532 0.68784725 0.06352 0.108844\\nleft_hero_4 0.131532 0.81821975 0.06352 0.108844\\nright_hero_0 0.8688522 0.29961925 0.06352 0.108844\\nright_hero_1 0.8688522 0.42557325 0.06352 0.108844\\nright_hero_2 0.8688522 0.55899625 0.06352 0.108844\\nright_hero_3 0.8688522 0.68784725 0.06352 0.108844\\nright_hero_4 0.8688522 0.81821975 0.06352 0.108844\\nmatch_result 0.5 0.058992 0.195876 0.076747\\nmatch_duration 0.807003 0.165001 0.114925 0.027715\\nbattle_id 0.120271 0.897661 0.216694 0.02924\\nleft_kill 0.301515 0.069504 0.045455 0.053659\\nright_kill 0.698323 0.069504 0.045455 0.053659\\nleft_medal_0 0.4628652 0.29961925 0.062104 0.111111\\nleft_medal_1 0.4628652 0.42557325 0.062104 0.111111\\nleft_medal_2 0.4628652 0.55899625 0.062104 0.111111\\nleft_medal_3 0.4628652 0.68784725 0.062104 0.111111\\nleft_medal_4 0.4628652 0.81821975 0.062104 0.111111\\nright_medal_0 0.5380466 0.29961925 0.062104 0.111111\\nright_medal_1 0.5380466 0.42557325 0.062104 0.111111\\nright_medal_2 0.5380466 0.55899625 0.062104 0.111111\\nright_medal_3 0.5380466 0.68784725 0.062104 0.111111\\nright_medal_4 0.5380466 0.81821975 0.062104 0.111111'"
      ]
     },
     "execution_count": 62,
     "metadata": {},
     "output_type": "execute_result"
    }
   ],
   "source": [
    "with open(\"template.txt\") as f:\n",
    "    template = f.read()\n",
    "template"
   ]
  },
  {
   "cell_type": "code",
   "execution_count": 63,
   "id": "c6ec2d07-c1d2-424e-8220-4a95cd6aca0a",
   "metadata": {},
   "outputs": [
    {
     "data": {
      "text/plain": [
       "('Screenshot_20230410-234927.jpg',\n",
       " {'match_result': 0,\n",
       "  'left_kill': 3,\n",
       "  'right_kill': 4,\n",
       "  'battle_id': 5,\n",
       "  'match_duration': 6,\n",
       "  'left_hero_0': 102,\n",
       "  'left_hero_1': 77,\n",
       "  'left_hero_2': 115,\n",
       "  'left_hero_3': 35,\n",
       "  'left_hero_4': 70,\n",
       "  'right_hero_0': 124,\n",
       "  'right_hero_1': 64,\n",
       "  'right_hero_2': 112,\n",
       "  'right_hero_3': 67,\n",
       "  'right_hero_4': 96,\n",
       "  'left_medal_0': 9,\n",
       "  'left_medal_1': 9,\n",
       "  'left_medal_2': 9,\n",
       "  'left_medal_3': 10,\n",
       "  'left_medal_4': 7,\n",
       "  'right_medal_0': 9,\n",
       "  'right_medal_1': 10,\n",
       "  'right_medal_2': 11,\n",
       "  'right_medal_3': 10,\n",
       "  'right_medal_4': 8})"
      ]
     },
     "execution_count": 63,
     "metadata": {},
     "output_type": "execute_result"
    }
   ],
   "source": [
    "def obj2yoloreplace(obj):\n",
    "    left_heroes = {f\"left_hero_{i}\": obj[\"left_heroes\"][i] for i in range(5)}\n",
    "    right_heroes = {f\"right_hero_{i}\": obj[\"right_heroes\"][i] for i in range(5)}\n",
    "    left_medals = {f\"left_medal_{i}\": obj[\"left_medals\"][i] for i in range(5)}\n",
    "    right_medals = {f\"right_medal_{i}\": obj[\"right_medals\"][i] for i in range(5)}\n",
    "    return {\n",
    "        \"match_result\": obj[\"match_result\"],\n",
    "        \"left_kill\": name2id[\"left_kill\"],\n",
    "        \"right_kill\": name2id[\"right_kill\"],\n",
    "        \"battle_id\": name2id[\"battle_id\"],\n",
    "        \"match_duration\": name2id[\"match_duration\"],\n",
    "        **left_heroes,\n",
    "        **right_heroes,\n",
    "        **left_medals,\n",
    "        **right_medals,\n",
    "    }\n",
    "\n",
    "obj_yolo_replaces = {o[\"file\"]: obj2yoloreplace(o) for o in obj_ids}\n",
    "next(iter(obj_yolo_replaces.items()))"
   ]
  },
  {
   "cell_type": "code",
   "execution_count": 64,
   "id": "f2d23c65-9d86-4631-9c5e-59af3809e80b",
   "metadata": {},
   "outputs": [
    {
     "data": {
      "text/plain": [
       "('Screenshot_20230410-234927.jpg',\n",
       " '102 0.131532 0.29961925 0.06352 0.108844\\n77 0.131532 0.42557325 0.06352 0.108844\\n115 0.131532 0.55899625 0.06352 0.108844\\n35 0.131532 0.68784725 0.06352 0.108844\\n70 0.131532 0.81821975 0.06352 0.108844\\n124 0.8688522 0.29961925 0.06352 0.108844\\n64 0.8688522 0.42557325 0.06352 0.108844\\n112 0.8688522 0.55899625 0.06352 0.108844\\n67 0.8688522 0.68784725 0.06352 0.108844\\n96 0.8688522 0.81821975 0.06352 0.108844\\n0 0.5 0.058992 0.195876 0.076747\\n6 0.807003 0.165001 0.114925 0.027715\\n5 0.120271 0.897661 0.216694 0.02924\\n3 0.301515 0.069504 0.045455 0.053659\\n4 0.698323 0.069504 0.045455 0.053659\\n9 0.4628652 0.29961925 0.062104 0.111111\\n9 0.4628652 0.42557325 0.062104 0.111111\\n9 0.4628652 0.55899625 0.062104 0.111111\\n10 0.4628652 0.68784725 0.062104 0.111111\\n7 0.4628652 0.81821975 0.062104 0.111111\\n9 0.5380466 0.29961925 0.062104 0.111111\\n10 0.5380466 0.42557325 0.062104 0.111111\\n11 0.5380466 0.55899625 0.062104 0.111111\\n10 0.5380466 0.68784725 0.062104 0.111111\\n8 0.5380466 0.81821975 0.062104 0.111111')"
      ]
     },
     "execution_count": 64,
     "metadata": {},
     "output_type": "execute_result"
    }
   ],
   "source": [
    "import re\n",
    "\n",
    "rep = {\"condition1\": \"\", \"condition2\": \"text\"} # define desired replacements here\n",
    "\n",
    "# use these three lines to do the replacement\n",
    "def replace_template(rep, template=template):\n",
    "    rep = dict((re.escape(k), str(v)) for k, v in rep.items()) \n",
    "    pattern = re.compile(\"|\".join(rep.keys()))\n",
    "    text = pattern.sub(lambda m: rep[re.escape(m.group(0))], template)\n",
    "    return text\n",
    "\n",
    "obj_yolos = {k: replace_template(v) for k, v in obj_yolo_replaces.items()}\n",
    "next(iter(obj_yolos.items()))"
   ]
  },
  {
   "cell_type": "code",
   "execution_count": 65,
   "id": "b150d8cb-d957-499b-9d26-e2a73d95c041",
   "metadata": {},
   "outputs": [],
   "source": [
    "import os\n",
    "import glob\n",
    "\n",
    "image_path = \"images\"\n",
    "label_path = \"labels\"\n",
    "not_found = []\n",
    "\n",
    "for img in glob.glob(os.path.join(image_path, \"*.jpg\")):\n",
    "    img = os.path.basename(img)\n",
    "    try:\n",
    "        yolo = obj_yolos[img]\n",
    "        stem = os.path.splitext(img)[0]\n",
    "        with open(os.path.join(label_path, f\"{stem}.txt\"), \"w\") as f:\n",
    "            f.write(yolo)\n",
    "    except KeyError:\n",
    "        not_found.append(img)\n",
    "        os.remove(os.path.join(image_path, img))"
   ]
  },
  {
   "cell_type": "code",
   "execution_count": 66,
   "id": "4fc49633-7d4b-41b8-b162-d7426728e042",
   "metadata": {},
   "outputs": [
    {
     "data": {
      "text/plain": [
       "[]"
      ]
     },
     "execution_count": 66,
     "metadata": {},
     "output_type": "execute_result"
    }
   ],
   "source": [
    "not_found"
   ]
  },
  {
   "cell_type": "code",
   "execution_count": 75,
   "id": "e51965c0-7cc1-4495-830e-4d41434864b5",
   "metadata": {},
   "outputs": [
    {
     "data": {
      "text/plain": [
       "(5309, 'images\\\\Screenshot_20230410-232514.jpg')"
      ]
     },
     "execution_count": 75,
     "metadata": {},
     "output_type": "execute_result"
    }
   ],
   "source": [
    "import glob\n",
    "images = list(glob.glob(os.path.join(image_path, \"*.jpg\")))\n",
    "len(images), images[0]"
   ]
  },
  {
   "cell_type": "code",
   "execution_count": 77,
   "id": "a90d57e6-0433-4493-b6b5-cf8e7aec4753",
   "metadata": {},
   "outputs": [
    {
     "data": {
      "text/plain": [
       "(4248, 1061)"
      ]
     },
     "execution_count": 77,
     "metadata": {},
     "output_type": "execute_result"
    }
   ],
   "source": [
    "import numpy as np\n",
    "\n",
    "frac = 0.2\n",
    "n_test = int(len(images)*frac)\n",
    "n_train = len(images) - n_test\n",
    "\n",
    "images_1 = list(images)\n",
    "np.random.shuffle(images_1)\n",
    "train = images_1[:n_train]\n",
    "test = images_1[n_train:]\n",
    "assert len(test) == n_test\n",
    "len(train), len(test)"
   ]
  },
  {
   "cell_type": "code",
   "execution_count": 78,
   "id": "bafc0711-4c16-4e91-bf95-4b820d8b9f0a",
   "metadata": {},
   "outputs": [],
   "source": [
    "with open(\"train.txt\", \"w\") as f:\n",
    "    f.write(\"\\n\".join(train))\n",
    "with open(\"test.txt\", \"w\") as f:\n",
    "    f.write(\"\\n\".join(test))"
   ]
  },
  {
   "cell_type": "code",
   "execution_count": 99,
   "id": "211190c7-037d-4cab-b904-7067660fbb77",
   "metadata": {},
   "outputs": [
    {
     "data": {
      "text/plain": [
       "{'path': '.',\n",
       " 'train': 'train.txt',\n",
       " 'val': 'test.txt',\n",
       " 'test': None,\n",
       " 'names': {0: 'result_victory',\n",
       "  1: 'result_defeat',\n",
       "  2: 'result_invalid',\n",
       "  3: 'left_kill',\n",
       "  4: 'right_kill',\n",
       "  5: 'battle_id',\n",
       "  6: 'match_duration',\n",
       "  7: 'medal_mvp_win',\n",
       "  8: 'medal_mvp_lose',\n",
       "  9: 'medal_gold',\n",
       "  10: 'medal_silver',\n",
       "  11: 'medal_bronze',\n",
       "  12: 'medal_afk',\n",
       "  13: 'Miya',\n",
       "  14: 'Balmond',\n",
       "  15: 'Saber',\n",
       "  16: 'Alice',\n",
       "  17: 'Nana',\n",
       "  18: 'Tigreal',\n",
       "  19: 'Alucard',\n",
       "  20: 'Karina',\n",
       "  21: 'Akai',\n",
       "  22: 'Franco',\n",
       "  23: 'Bane',\n",
       "  24: 'Bruno',\n",
       "  25: 'Clint',\n",
       "  26: 'Rafaela',\n",
       "  27: 'Eudora',\n",
       "  28: 'Zilong',\n",
       "  29: 'Fanny',\n",
       "  30: 'Layla',\n",
       "  31: 'Minotaur',\n",
       "  32: 'Lolita',\n",
       "  33: 'Hayabusa',\n",
       "  34: 'Freya',\n",
       "  35: 'Gord',\n",
       "  36: 'Natalia',\n",
       "  37: 'Kagura',\n",
       "  38: 'Chou',\n",
       "  39: 'Sun',\n",
       "  40: 'Alpha',\n",
       "  41: 'Ruby',\n",
       "  42: 'Yi Sun-shin',\n",
       "  43: 'Moskov',\n",
       "  44: 'Johnson',\n",
       "  45: 'Cyclops',\n",
       "  46: 'Estes',\n",
       "  47: 'Hilda',\n",
       "  48: 'Aurora',\n",
       "  49: 'Lapu-Lapu',\n",
       "  50: 'Vexana',\n",
       "  51: 'Roger',\n",
       "  52: 'Karrie',\n",
       "  53: 'Gatotkaca',\n",
       "  54: 'Harley',\n",
       "  55: 'Irithel',\n",
       "  56: 'Grock',\n",
       "  57: 'Argus',\n",
       "  58: 'Odette',\n",
       "  59: 'Lancelot',\n",
       "  60: 'Diggie',\n",
       "  61: 'Hylos',\n",
       "  62: 'Zhask',\n",
       "  63: 'Helcurt',\n",
       "  64: 'Pharsa',\n",
       "  65: 'Lesley',\n",
       "  66: 'Jawhead',\n",
       "  67: 'Angela',\n",
       "  68: 'Gusion',\n",
       "  69: 'Valir',\n",
       "  70: 'Martis',\n",
       "  71: 'Uranus',\n",
       "  72: 'Hanabi',\n",
       "  73: \"Chang'e\",\n",
       "  74: 'Kaja',\n",
       "  75: 'Selena',\n",
       "  76: 'Aldous',\n",
       "  77: 'Claude',\n",
       "  78: 'Vale',\n",
       "  79: 'Leomord',\n",
       "  80: 'Lunox',\n",
       "  81: 'Hanzo',\n",
       "  82: 'Belerick',\n",
       "  83: 'Kimmy',\n",
       "  84: 'Thamuz',\n",
       "  85: 'Harith',\n",
       "  86: 'Minsitthar',\n",
       "  87: 'Kadita',\n",
       "  88: 'Faramis',\n",
       "  89: 'Badang',\n",
       "  90: 'Khufra',\n",
       "  91: 'Granger',\n",
       "  92: 'Guinevere',\n",
       "  93: 'Esmeralda',\n",
       "  94: 'Terizla',\n",
       "  95: 'X.Borg',\n",
       "  96: 'Ling',\n",
       "  97: 'Dyrroth',\n",
       "  98: 'Lylia',\n",
       "  99: 'Baxia',\n",
       "  100: 'Masha',\n",
       "  101: 'Wanwan',\n",
       "  102: 'Silvanna',\n",
       "  103: 'Carmilla',\n",
       "  104: 'Cecilion',\n",
       "  105: 'Atlas',\n",
       "  106: 'Popol and Kupa',\n",
       "  107: 'Yu Zhong',\n",
       "  108: 'Luo Yi',\n",
       "  109: 'Benedetta',\n",
       "  110: 'Khaleed',\n",
       "  111: 'Barats',\n",
       "  112: 'Brody',\n",
       "  113: 'Yve',\n",
       "  114: 'Mathilda',\n",
       "  115: 'Paquito',\n",
       "  116: 'Gloo',\n",
       "  117: 'Beatrix',\n",
       "  118: 'Phoveus',\n",
       "  119: 'Natan',\n",
       "  120: 'Aulus',\n",
       "  121: 'Aamon',\n",
       "  122: 'Floryn',\n",
       "  123: 'Valentina',\n",
       "  124: 'Edith',\n",
       "  125: 'Yin',\n",
       "  126: 'Melissa',\n",
       "  127: 'Xavier',\n",
       "  128: 'Julian',\n",
       "  129: 'Fredrinn',\n",
       "  130: 'Joy',\n",
       "  131: 'Novaria',\n",
       "  132: 'Arlott'}}"
      ]
     },
     "execution_count": 99,
     "metadata": {},
     "output_type": "execute_result"
    }
   ],
   "source": [
    "import yaml\n",
    "\n",
    "with open(\"dataset.yaml\", \"r\") as f:\n",
    "    try:\n",
    "        dataset_yaml = yaml.safe_load(f)\n",
    "    except yaml.YAMLError as exc:\n",
    "        print(exc)\n",
    "dataset_yaml"
   ]
  },
  {
   "cell_type": "code",
   "execution_count": 88,
   "id": "72be9d47-701f-4e02-a173-d0d9d858a9a0",
   "metadata": {},
   "outputs": [
    {
     "name": "stderr",
     "output_type": "stream",
     "text": [
      "Scanning images... 5309 images, 0 backgrounds, 0 corrupt: 100%|██████████| 5309/5309 [00:03<00:00, 1425.16it/s]\n"
     ]
    },
    {
     "name": "stdout",
     "output_type": "stream",
     "text": [
      "New cache created: images.cache\n"
     ]
    }
   ],
   "source": [
    "from ultralytics.data.dataset import YOLODataset\n",
    "\n",
    "ds = YOLODataset(\n",
    "    data=dataset_yaml,\n",
    "    img_path=\".\",\n",
    ")"
   ]
  },
  {
   "cell_type": "code",
   "execution_count": null,
   "id": "036deaa7-dd77-4697-b3ce-ab3914bf77ee",
   "metadata": {},
   "outputs": [
    {
     "name": "stdout",
     "output_type": "stream",
     "text": [
      "Ultralytics YOLOv8.0.216 🚀 Python-3.10.9 torch-2.1.1+cpu CPU (AMD Ryzen 5 4500U with Radeon Graphics)\n",
      "\u001b[34m\u001b[1mengine\\trainer: \u001b[0mtask=detect, mode=train, model=yolov8n.pt, data=E:\\github\\ml_yolo_dataset\\dataset.yaml, epochs=1, patience=50, batch=16, imgsz=640, save=True, save_period=-1, cache=False, device=None, workers=8, project=None, name=train15, exist_ok=False, pretrained=True, optimizer=auto, verbose=True, seed=0, deterministic=True, single_cls=False, rect=False, cos_lr=False, close_mosaic=10, resume=False, amp=True, fraction=1.0, profile=False, freeze=None, overlap_mask=True, mask_ratio=4, dropout=0.0, val=True, split=val, save_json=False, save_hybrid=False, conf=None, iou=0.7, max_det=300, half=False, dnn=False, plots=True, source=None, show=False, save_txt=False, save_conf=False, save_crop=False, show_labels=True, show_conf=True, vid_stride=1, stream_buffer=False, line_width=None, visualize=False, augment=False, agnostic_nms=False, classes=None, retina_masks=False, boxes=True, format=torchscript, keras=False, optimize=False, int8=False, dynamic=False, simplify=False, opset=None, workspace=4, nms=False, lr0=0.01, lrf=0.01, momentum=0.937, weight_decay=0.0005, warmup_epochs=3.0, warmup_momentum=0.8, warmup_bias_lr=0.1, box=7.5, cls=0.5, dfl=1.5, pose=12.0, kobj=1.0, label_smoothing=0.0, nbs=64, hsv_h=0.015, hsv_s=0.7, hsv_v=0.4, degrees=0.0, translate=0.1, scale=0.5, shear=0.0, perspective=0.0, flipud=0.0, fliplr=0.5, mosaic=1.0, mixup=0.0, copy_paste=0.0, cfg=None, tracker=botsort.yaml, save_dir=runs\\detect\\train15\n",
      "Overriding model.yaml nc=80 with nc=133\n",
      "\n",
      "                   from  n    params  module                                       arguments                     \n",
      "  0                  -1  1       464  ultralytics.nn.modules.conv.Conv             [3, 16, 3, 2]                 \n",
      "  1                  -1  1      4672  ultralytics.nn.modules.conv.Conv             [16, 32, 3, 2]                \n",
      "  2                  -1  1      7360  ultralytics.nn.modules.block.C2f             [32, 32, 1, True]             \n",
      "  3                  -1  1     18560  ultralytics.nn.modules.conv.Conv             [32, 64, 3, 2]                \n",
      "  4                  -1  2     49664  ultralytics.nn.modules.block.C2f             [64, 64, 2, True]             \n",
      "  5                  -1  1     73984  ultralytics.nn.modules.conv.Conv             [64, 128, 3, 2]               \n",
      "  6                  -1  2    197632  ultralytics.nn.modules.block.C2f             [128, 128, 2, True]           \n",
      "  7                  -1  1    295424  ultralytics.nn.modules.conv.Conv             [128, 256, 3, 2]              \n",
      "  8                  -1  1    460288  ultralytics.nn.modules.block.C2f             [256, 256, 1, True]           \n",
      "  9                  -1  1    164608  ultralytics.nn.modules.block.SPPF            [256, 256, 5]                 \n",
      " 10                  -1  1         0  torch.nn.modules.upsampling.Upsample         [None, 2, 'nearest']          \n",
      " 11             [-1, 6]  1         0  ultralytics.nn.modules.conv.Concat           [1]                           \n",
      " 12                  -1  1    148224  ultralytics.nn.modules.block.C2f             [384, 128, 1]                 \n",
      " 13                  -1  1         0  torch.nn.modules.upsampling.Upsample         [None, 2, 'nearest']          \n",
      " 14             [-1, 4]  1         0  ultralytics.nn.modules.conv.Concat           [1]                           \n",
      " 15                  -1  1     37248  ultralytics.nn.modules.block.C2f             [192, 64, 1]                  \n",
      " 16                  -1  1     36992  ultralytics.nn.modules.conv.Conv             [64, 64, 3, 2]                \n",
      " 17            [-1, 12]  1         0  ultralytics.nn.modules.conv.Concat           [1]                           \n",
      " 18                  -1  1    123648  ultralytics.nn.modules.block.C2f             [192, 128, 1]                 \n",
      " 19                  -1  1    147712  ultralytics.nn.modules.conv.Conv             [128, 128, 3, 2]              \n",
      " 20             [-1, 9]  1         0  ultralytics.nn.modules.conv.Concat           [1]                           \n",
      " 21                  -1  1    493056  ultralytics.nn.modules.block.C2f             [384, 256, 1]                 \n",
      " 22        [15, 18, 21]  1   1096603  ultralytics.nn.modules.head.Detect           [133, [64, 128, 256]]         \n",
      "Model summary: 225 layers, 3356139 parameters, 3356123 gradients, 9.8 GFLOPs\n",
      "\n",
      "Transferred 319/355 items from pretrained weights\n",
      "Freezing layer 'model.22.dfl.conv.weight'\n"
     ]
    },
    {
     "name": "stderr",
     "output_type": "stream",
     "text": [
      "\u001b[34m\u001b[1mtrain: \u001b[0mScanning images... 4248 images, 0 backgrounds, 0 corrupt: 100%|██████████| 4248/4248 [00:02<00:00, 1523.00it/s]\u001b[0m\n"
     ]
    },
    {
     "name": "stdout",
     "output_type": "stream",
     "text": [
      "\u001b[34m\u001b[1mtrain: \u001b[0mNew cache created: images.cache\n"
     ]
    },
    {
     "name": "stderr",
     "output_type": "stream",
     "text": [
      "\u001b[34m\u001b[1mval: \u001b[0mScanning images... 1061 images, 0 backgrounds, 0 corrupt: 100%|██████████| 1061/1061 [00:00<00:00, 1618.10it/s]\u001b[0m\n"
     ]
    },
    {
     "name": "stdout",
     "output_type": "stream",
     "text": [
      "\u001b[34m\u001b[1mval: \u001b[0mNew cache created: images.cache\n",
      "Plotting labels to runs\\detect\\train15\\labels.jpg... \n",
      "\u001b[34m\u001b[1moptimizer:\u001b[0m 'optimizer=auto' found, ignoring 'lr0=0.01' and 'momentum=0.937' and determining best 'optimizer', 'lr0' and 'momentum' automatically... \n",
      "\u001b[34m\u001b[1moptimizer:\u001b[0m AdamW(lr=7.3e-05, momentum=0.9) with parameter groups 57 weight(decay=0.0), 64 weight(decay=0.0005), 63 bias(decay=0.0)\n",
      "Image sizes 640 train, 640 val\n",
      "Using 0 dataloader workers\n",
      "Logging results to \u001b[1mruns\\detect\\train15\u001b[0m\n",
      "Starting training for 1 epochs...\n",
      "\n",
      "      Epoch    GPU_mem   box_loss   cls_loss   dfl_loss  Instances       Size\n"
     ]
    },
    {
     "name": "stderr",
     "output_type": "stream",
     "text": [
      "        1/1         0G      1.461      5.943      1.209        551        640:   5%|▌         | 14/266 [02:23<44:48, 10"
     ]
    }
   ],
   "source": [
    "from ultralytics import YOLO\n",
    "import os\n",
    "\n",
    "# Load a model\n",
    "model = YOLO('yolov8n.pt')  # load a pretrained model (recommended for training)\n",
    "\n",
    "# Train the model\n",
    "results = model.train(data=os.path.abspath(\"dataset.yaml\"), epochs=1)"
   ]
  },
  {
   "cell_type": "code",
   "execution_count": null,
   "id": "8aa2d5b2-bee2-4abf-9e00-8fba7e1b4703",
   "metadata": {},
   "outputs": [],
   "source": []
  }
 ],
 "metadata": {
  "kernelspec": {
   "display_name": "Python 3 (ipykernel)",
   "language": "python",
   "name": "python3"
  },
  "language_info": {
   "codemirror_mode": {
    "name": "ipython",
    "version": 3
   },
   "file_extension": ".py",
   "mimetype": "text/x-python",
   "name": "python",
   "nbconvert_exporter": "python",
   "pygments_lexer": "ipython3",
   "version": "3.10.9"
  }
 },
 "nbformat": 4,
 "nbformat_minor": 5
}
