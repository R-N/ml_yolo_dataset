{
 "cells": [
  {
   "cell_type": "code",
   "execution_count": 1,
   "id": "8b1e1519-033c-4313-9193-e440f30d6991",
   "metadata": {},
   "outputs": [],
   "source": [
    "import pandas as pd"
   ]
  },
  {
   "cell_type": "code",
   "execution_count": 16,
   "id": "43784106-d45d-4888-b944-a7494d656f50",
   "metadata": {},
   "outputs": [
    {
     "name": "stdout",
     "output_type": "stream",
     "text": [
      "5310\n"
     ]
    },
    {
     "data": {
      "text/html": [
       "<div>\n",
       "<style scoped>\n",
       "    .dataframe tbody tr th:only-of-type {\n",
       "        vertical-align: middle;\n",
       "    }\n",
       "\n",
       "    .dataframe tbody tr th {\n",
       "        vertical-align: top;\n",
       "    }\n",
       "\n",
       "    .dataframe thead th {\n",
       "        text-align: right;\n",
       "    }\n",
       "</style>\n",
       "<table border=\"1\" class=\"dataframe\">\n",
       "  <thead>\n",
       "    <tr style=\"text-align: right;\">\n",
       "      <th></th>\n",
       "      <th>file</th>\n",
       "      <th>match_result</th>\n",
       "      <th>left_heroes</th>\n",
       "      <th>right_heroes</th>\n",
       "      <th>left_medals</th>\n",
       "      <th>right_medals</th>\n",
       "    </tr>\n",
       "  </thead>\n",
       "  <tbody>\n",
       "    <tr>\n",
       "      <th>0</th>\n",
       "      <td>Screenshot_20230410-234927.jpg</td>\n",
       "      <td>Victory</td>\n",
       "      <td>['Silvanna', 'Claude', 'Paquito', 'Gord', 'Mar...</td>\n",
       "      <td>['Edith', 'Pharsa', 'Brody', 'Angela', 'Ling']</td>\n",
       "      <td>['Gold', 'Gold', 'Gold', 'Silver', 'MVP Win']</td>\n",
       "      <td>['Gold', 'Silver', 'Bronze', 'Silver', 'MVP Lo...</td>\n",
       "    </tr>\n",
       "    <tr>\n",
       "      <th>1</th>\n",
       "      <td>Screenshot_20230410-234936.jpg</td>\n",
       "      <td>Defeat</td>\n",
       "      <td>['Estes', 'Pharsa', 'Fredrinn', 'Moskov', 'Sil...</td>\n",
       "      <td>['Lapu-Lapu', 'Lesley', 'Xavier', 'Martis', 'A...</td>\n",
       "      <td>['Bronze', 'Bronze', 'Bronze', 'Bronze', 'Bron...</td>\n",
       "      <td>['Gold', 'Gold', 'Gold', 'MVP Win', 'Gold']</td>\n",
       "    </tr>\n",
       "    <tr>\n",
       "      <th>2</th>\n",
       "      <td>Screenshot_20230410-234954.jpg</td>\n",
       "      <td>Victory</td>\n",
       "      <td>['Melissa', 'Gusion', 'Atlas', 'Karina', 'Silv...</td>\n",
       "      <td>['Kaja', 'Beatrix', 'Valentina', 'Lolita', 'Fa...</td>\n",
       "      <td>['Gold', 'Bronze', 'Gold', 'Gold', 'MVP Win']</td>\n",
       "      <td>['Silver', 'Silver', 'Silver', 'Gold', 'MVP Lo...</td>\n",
       "    </tr>\n",
       "    <tr>\n",
       "      <th>3</th>\n",
       "      <td>Screenshot_20230410-235003.jpg</td>\n",
       "      <td>Defeat</td>\n",
       "      <td>['Freya', 'Brody', 'Silvanna', 'Lancelot', 'Ju...</td>\n",
       "      <td>['Valentina', 'Kadita', 'Terizla', 'Wanwan', '...</td>\n",
       "      <td>['Silver', 'Bronze', 'Silver', 'Silver', 'Bron...</td>\n",
       "      <td>['Silver', 'Gold', 'Gold', 'MVP Win', 'Gold']</td>\n",
       "    </tr>\n",
       "    <tr>\n",
       "      <th>4</th>\n",
       "      <td>Screenshot_20230410-235023.jpg</td>\n",
       "      <td>Victory</td>\n",
       "      <td>['Arlott', 'Lolita', 'Lesley', 'Pharsa', 'Silv...</td>\n",
       "      <td>['Melissa', 'Valir', 'Aldous', 'Franco', 'Fred...</td>\n",
       "      <td>['Gold', 'MVP Win', 'Gold', 'Gold', 'Gold']</td>\n",
       "      <td>['Bronze', 'Bronze', 'MVP Lose', 'Bronze', 'Br...</td>\n",
       "    </tr>\n",
       "  </tbody>\n",
       "</table>\n",
       "</div>"
      ],
      "text/plain": [
       "                             file match_result  \\\n",
       "0  Screenshot_20230410-234927.jpg      Victory   \n",
       "1  Screenshot_20230410-234936.jpg       Defeat   \n",
       "2  Screenshot_20230410-234954.jpg      Victory   \n",
       "3  Screenshot_20230410-235003.jpg       Defeat   \n",
       "4  Screenshot_20230410-235023.jpg      Victory   \n",
       "\n",
       "                                         left_heroes  \\\n",
       "0  ['Silvanna', 'Claude', 'Paquito', 'Gord', 'Mar...   \n",
       "1  ['Estes', 'Pharsa', 'Fredrinn', 'Moskov', 'Sil...   \n",
       "2  ['Melissa', 'Gusion', 'Atlas', 'Karina', 'Silv...   \n",
       "3  ['Freya', 'Brody', 'Silvanna', 'Lancelot', 'Ju...   \n",
       "4  ['Arlott', 'Lolita', 'Lesley', 'Pharsa', 'Silv...   \n",
       "\n",
       "                                        right_heroes  \\\n",
       "0     ['Edith', 'Pharsa', 'Brody', 'Angela', 'Ling']   \n",
       "1  ['Lapu-Lapu', 'Lesley', 'Xavier', 'Martis', 'A...   \n",
       "2  ['Kaja', 'Beatrix', 'Valentina', 'Lolita', 'Fa...   \n",
       "3  ['Valentina', 'Kadita', 'Terizla', 'Wanwan', '...   \n",
       "4  ['Melissa', 'Valir', 'Aldous', 'Franco', 'Fred...   \n",
       "\n",
       "                                         left_medals  \\\n",
       "0      ['Gold', 'Gold', 'Gold', 'Silver', 'MVP Win']   \n",
       "1  ['Bronze', 'Bronze', 'Bronze', 'Bronze', 'Bron...   \n",
       "2      ['Gold', 'Bronze', 'Gold', 'Gold', 'MVP Win']   \n",
       "3  ['Silver', 'Bronze', 'Silver', 'Silver', 'Bron...   \n",
       "4        ['Gold', 'MVP Win', 'Gold', 'Gold', 'Gold']   \n",
       "\n",
       "                                        right_medals  \n",
       "0  ['Gold', 'Silver', 'Bronze', 'Silver', 'MVP Lo...  \n",
       "1        ['Gold', 'Gold', 'Gold', 'MVP Win', 'Gold']  \n",
       "2  ['Silver', 'Silver', 'Silver', 'Gold', 'MVP Lo...  \n",
       "3      ['Silver', 'Gold', 'Gold', 'MVP Win', 'Gold']  \n",
       "4  ['Bronze', 'Bronze', 'MVP Lose', 'Bronze', 'Br...  "
      ]
     },
     "execution_count": 16,
     "metadata": {},
     "output_type": "execute_result"
    }
   ],
   "source": [
    "results = pd.read_csv(\"results.csv\", index_col=0)\n",
    "results[\"file\"] = results[\"file\"].str.rsplit(\"/\", n=1).str[-1]\n",
    "results = results.drop_duplicates(subset=['file'], keep=False)\n",
    "results = results[[\"file\", \"match_result\", \"left_heroes\", \"right_heroes\", \"left_medals\", \"right_medals\"]]\n",
    "print(len(results))\n",
    "results.head()"
   ]
  },
  {
   "cell_type": "code",
   "execution_count": 59,
   "id": "02e0100c-b1fd-4233-b534-17cc051b5342",
   "metadata": {},
   "outputs": [
    {
     "data": {
      "text/plain": [
       "{'Victory': 0,\n",
       " 'Defeat': 1,\n",
       " 'Invalid': 2,\n",
       " 'left_kill': 3,\n",
       " 'right_kill': 4,\n",
       " 'battle_id': 5,\n",
       " 'match_duration': 6,\n",
       " 'MVP Win': 7,\n",
       " 'MVP Lose': 8,\n",
       " 'Gold': 9,\n",
       " 'Silver': 10,\n",
       " 'Bronze': 11,\n",
       " 'AFK': 12,\n",
       " 'Miya': 13,\n",
       " 'Balmond': 14,\n",
       " 'Saber': 15,\n",
       " 'Alice': 16,\n",
       " 'Nana': 17,\n",
       " 'Tigreal': 18,\n",
       " 'Alucard': 19,\n",
       " 'Karina': 20,\n",
       " 'Akai': 21,\n",
       " 'Franco': 22,\n",
       " 'Bane': 23,\n",
       " 'Bruno': 24,\n",
       " 'Clint': 25,\n",
       " 'Rafaela': 26,\n",
       " 'Eudora': 27,\n",
       " 'Zilong': 28,\n",
       " 'Fanny': 29,\n",
       " 'Layla': 30,\n",
       " 'Minotaur': 31,\n",
       " 'Lolita': 32,\n",
       " 'Hayabusa': 33,\n",
       " 'Freya': 34,\n",
       " 'Gord': 35,\n",
       " 'Natalia': 36,\n",
       " 'Kagura': 37,\n",
       " 'Chou': 38,\n",
       " 'Sun': 39,\n",
       " 'Alpha': 40,\n",
       " 'Ruby': 41,\n",
       " 'Yi Sun-shin': 42,\n",
       " 'Moskov': 43,\n",
       " 'Johnson': 44,\n",
       " 'Cyclops': 45,\n",
       " 'Estes': 46,\n",
       " 'Hilda': 47,\n",
       " 'Aurora': 48,\n",
       " 'Lapu-Lapu': 49,\n",
       " 'Vexana': 50,\n",
       " 'Roger': 51,\n",
       " 'Karrie': 52,\n",
       " 'Gatotkaca': 53,\n",
       " 'Harley': 54,\n",
       " 'Irithel': 55,\n",
       " 'Grock': 56,\n",
       " 'Argus': 57,\n",
       " 'Odette': 58,\n",
       " 'Lancelot': 59,\n",
       " 'Diggie': 60,\n",
       " 'Hylos': 61,\n",
       " 'Zhask': 62,\n",
       " 'Helcurt': 63,\n",
       " 'Pharsa': 64,\n",
       " 'Lesley': 65,\n",
       " 'Jawhead': 66,\n",
       " 'Angela': 67,\n",
       " 'Gusion': 68,\n",
       " 'Valir': 69,\n",
       " 'Martis': 70,\n",
       " 'Uranus': 71,\n",
       " 'Hanabi': 72,\n",
       " \"Chang'e\": 73,\n",
       " 'Kaja': 74,\n",
       " 'Selena': 75,\n",
       " 'Aldous': 76,\n",
       " 'Claude': 77,\n",
       " 'Vale': 78,\n",
       " 'Leomord': 79,\n",
       " 'Lunox': 80,\n",
       " 'Hanzo': 81,\n",
       " 'Belerick': 82,\n",
       " 'Kimmy': 83,\n",
       " 'Thamuz': 84,\n",
       " 'Harith': 85,\n",
       " 'Minsitthar': 86,\n",
       " 'Kadita': 87,\n",
       " 'Faramis': 88,\n",
       " 'Badang': 89,\n",
       " 'Khufra': 90,\n",
       " 'Granger': 91,\n",
       " 'Guinevere': 92,\n",
       " 'Esmeralda': 93,\n",
       " 'Terizla': 94,\n",
       " 'X.Borg': 95,\n",
       " 'Ling': 96,\n",
       " 'Dyrroth': 97,\n",
       " 'Lylia': 98,\n",
       " 'Baxia': 99,\n",
       " 'Masha': 100,\n",
       " 'Wanwan': 101,\n",
       " 'Silvanna': 102,\n",
       " 'Carmilla': 103,\n",
       " 'Cecilion': 104,\n",
       " 'Atlas': 105,\n",
       " 'Popol and Kupa': 106,\n",
       " 'Yu Zhong': 107,\n",
       " 'Luo Yi': 108,\n",
       " 'Benedetta': 109,\n",
       " 'Khaleed': 110,\n",
       " 'Barats': 111,\n",
       " 'Brody': 112,\n",
       " 'Yve': 113,\n",
       " 'Mathilda': 114,\n",
       " 'Paquito': 115,\n",
       " 'Gloo': 116,\n",
       " 'Beatrix': 117,\n",
       " 'Phoveus': 118,\n",
       " 'Natan': 119,\n",
       " 'Aulus': 120,\n",
       " 'Aamon': 121,\n",
       " 'Floryn': 122,\n",
       " 'Valentina': 123,\n",
       " 'Edith': 124,\n",
       " 'Yin': 125,\n",
       " 'Melissa': 126,\n",
       " 'Xavier': 127,\n",
       " 'Julian': 128,\n",
       " 'Fredrinn': 129,\n",
       " 'Joy': 130,\n",
       " 'Novaria': 131,\n",
       " 'Arlott': 132}"
      ]
     },
     "execution_count": 59,
     "metadata": {},
     "output_type": "execute_result"
    }
   ],
   "source": [
    "import json\n",
    "\n",
    "with open(\"name2id.json\") as f:\n",
    "    name2id = json.load(f)\n",
    "name2id"
   ]
  },
  {
   "cell_type": "code",
   "execution_count": 60,
   "id": "e3e5b272-92e3-4339-a51c-9a29d55fbf8d",
   "metadata": {},
   "outputs": [
    {
     "data": {
      "text/plain": [
       "{'file': 'Screenshot_20230410-234927.jpg',\n",
       " 'match_result': 'Victory',\n",
       " 'left_heroes': \"['Silvanna', 'Claude', 'Paquito', 'Gord', 'Martis']\",\n",
       " 'right_heroes': \"['Edith', 'Pharsa', 'Brody', 'Angela', 'Ling']\",\n",
       " 'left_medals': \"['Gold', 'Gold', 'Gold', 'Silver', 'MVP Win']\",\n",
       " 'right_medals': \"['Gold', 'Silver', 'Bronze', 'Silver', 'MVP Lose']\"}"
      ]
     },
     "execution_count": 60,
     "metadata": {},
     "output_type": "execute_result"
    }
   ],
   "source": [
    "objs = results.to_dict(\"records\")\n",
    "objs[0]"
   ]
  },
  {
   "cell_type": "code",
   "execution_count": 61,
   "id": "b70c28d4-9fb2-49be-a510-af7a7218533e",
   "metadata": {},
   "outputs": [
    {
     "data": {
      "text/plain": [
       "{'file': 'Screenshot_20230410-234927.jpg',\n",
       " 'match_result': 0,\n",
       " 'left_heroes': [102, 77, 115, 35, 70],\n",
       " 'right_heroes': [124, 64, 112, 67, 96],\n",
       " 'left_medals': [9, 9, 9, 10, 7],\n",
       " 'right_medals': [9, 10, 11, 10, 8]}"
      ]
     },
     "execution_count": 61,
     "metadata": {},
     "output_type": "execute_result"
    }
   ],
   "source": [
    "def heroes2id(heroes):\n",
    "    if isinstance(heroes, str):\n",
    "        heroes = eval(heroes)\n",
    "    return [name2id[h] for h in heroes]\n",
    "\n",
    "def obj2id(obj):\n",
    "    obj = dict(obj)\n",
    "    obj[\"match_result\"] = name2id[obj[\"match_result\"]]\n",
    "    obj[\"left_heroes\"] = heroes2id(obj[\"left_heroes\"])\n",
    "    obj[\"right_heroes\"] = heroes2id(obj[\"right_heroes\"])\n",
    "    obj[\"left_medals\"] = heroes2id(obj[\"left_medals\"])\n",
    "    obj[\"right_medals\"] = heroes2id(obj[\"right_medals\"])\n",
    "    return obj\n",
    "\n",
    "obj_ids = [obj2id(o) for o in objs]\n",
    "obj_ids[0]"
   ]
  },
  {
   "cell_type": "code",
   "execution_count": 62,
   "id": "9eb93658-f436-4a7e-bb83-99f21ed2b3f4",
   "metadata": {},
   "outputs": [
    {
     "data": {
      "text/plain": [
       "'left_hero_0 0.131532 0.29961925 0.06352 0.108844\\nleft_hero_1 0.131532 0.42557325 0.06352 0.108844\\nleft_hero_2 0.131532 0.55899625 0.06352 0.108844\\nleft_hero_3 0.131532 0.68784725 0.06352 0.108844\\nleft_hero_4 0.131532 0.81821975 0.06352 0.108844\\nright_hero_0 0.8688522 0.29961925 0.06352 0.108844\\nright_hero_1 0.8688522 0.42557325 0.06352 0.108844\\nright_hero_2 0.8688522 0.55899625 0.06352 0.108844\\nright_hero_3 0.8688522 0.68784725 0.06352 0.108844\\nright_hero_4 0.8688522 0.81821975 0.06352 0.108844\\nmatch_result 0.5 0.058992 0.195876 0.076747\\nmatch_duration 0.807003 0.165001 0.114925 0.027715\\nbattle_id 0.120271 0.897661 0.216694 0.02924\\nleft_kill 0.301515 0.069504 0.045455 0.053659\\nright_kill 0.698323 0.069504 0.045455 0.053659\\nleft_medal_0 0.4628652 0.29961925 0.062104 0.111111\\nleft_medal_1 0.4628652 0.42557325 0.062104 0.111111\\nleft_medal_2 0.4628652 0.55899625 0.062104 0.111111\\nleft_medal_3 0.4628652 0.68784725 0.062104 0.111111\\nleft_medal_4 0.4628652 0.81821975 0.062104 0.111111\\nright_medal_0 0.5380466 0.29961925 0.062104 0.111111\\nright_medal_1 0.5380466 0.42557325 0.062104 0.111111\\nright_medal_2 0.5380466 0.55899625 0.062104 0.111111\\nright_medal_3 0.5380466 0.68784725 0.062104 0.111111\\nright_medal_4 0.5380466 0.81821975 0.062104 0.111111'"
      ]
     },
     "execution_count": 62,
     "metadata": {},
     "output_type": "execute_result"
    }
   ],
   "source": [
    "with open(\"template.txt\") as f:\n",
    "    template = f.read()\n",
    "template"
   ]
  },
  {
   "cell_type": "code",
   "execution_count": 63,
   "id": "c6ec2d07-c1d2-424e-8220-4a95cd6aca0a",
   "metadata": {},
   "outputs": [
    {
     "data": {
      "text/plain": [
       "('Screenshot_20230410-234927.jpg',\n",
       " {'match_result': 0,\n",
       "  'left_kill': 3,\n",
       "  'right_kill': 4,\n",
       "  'battle_id': 5,\n",
       "  'match_duration': 6,\n",
       "  'left_hero_0': 102,\n",
       "  'left_hero_1': 77,\n",
       "  'left_hero_2': 115,\n",
       "  'left_hero_3': 35,\n",
       "  'left_hero_4': 70,\n",
       "  'right_hero_0': 124,\n",
       "  'right_hero_1': 64,\n",
       "  'right_hero_2': 112,\n",
       "  'right_hero_3': 67,\n",
       "  'right_hero_4': 96,\n",
       "  'left_medal_0': 9,\n",
       "  'left_medal_1': 9,\n",
       "  'left_medal_2': 9,\n",
       "  'left_medal_3': 10,\n",
       "  'left_medal_4': 7,\n",
       "  'right_medal_0': 9,\n",
       "  'right_medal_1': 10,\n",
       "  'right_medal_2': 11,\n",
       "  'right_medal_3': 10,\n",
       "  'right_medal_4': 8})"
      ]
     },
     "execution_count": 63,
     "metadata": {},
     "output_type": "execute_result"
    }
   ],
   "source": [
    "def obj2yoloreplace(obj):\n",
    "    left_heroes = {f\"left_hero_{i}\": obj[\"left_heroes\"][i] for i in range(5)}\n",
    "    right_heroes = {f\"right_hero_{i}\": obj[\"right_heroes\"][i] for i in range(5)}\n",
    "    left_medals = {f\"left_medal_{i}\": obj[\"left_medals\"][i] for i in range(5)}\n",
    "    right_medals = {f\"right_medal_{i}\": obj[\"right_medals\"][i] for i in range(5)}\n",
    "    return {\n",
    "        \"match_result\": obj[\"match_result\"],\n",
    "        \"left_kill\": name2id[\"left_kill\"],\n",
    "        \"right_kill\": name2id[\"right_kill\"],\n",
    "        \"battle_id\": name2id[\"battle_id\"],\n",
    "        \"match_duration\": name2id[\"match_duration\"],\n",
    "        **left_heroes,\n",
    "        **right_heroes,\n",
    "        **left_medals,\n",
    "        **right_medals,\n",
    "    }\n",
    "\n",
    "obj_yolo_replaces = {o[\"file\"]: obj2yoloreplace(o) for o in obj_ids}\n",
    "next(iter(obj_yolo_replaces.items()))"
   ]
  },
  {
   "cell_type": "code",
   "execution_count": 64,
   "id": "f2d23c65-9d86-4631-9c5e-59af3809e80b",
   "metadata": {},
   "outputs": [
    {
     "data": {
      "text/plain": [
       "('Screenshot_20230410-234927.jpg',\n",
       " '102 0.131532 0.29961925 0.06352 0.108844\\n77 0.131532 0.42557325 0.06352 0.108844\\n115 0.131532 0.55899625 0.06352 0.108844\\n35 0.131532 0.68784725 0.06352 0.108844\\n70 0.131532 0.81821975 0.06352 0.108844\\n124 0.8688522 0.29961925 0.06352 0.108844\\n64 0.8688522 0.42557325 0.06352 0.108844\\n112 0.8688522 0.55899625 0.06352 0.108844\\n67 0.8688522 0.68784725 0.06352 0.108844\\n96 0.8688522 0.81821975 0.06352 0.108844\\n0 0.5 0.058992 0.195876 0.076747\\n6 0.807003 0.165001 0.114925 0.027715\\n5 0.120271 0.897661 0.216694 0.02924\\n3 0.301515 0.069504 0.045455 0.053659\\n4 0.698323 0.069504 0.045455 0.053659\\n9 0.4628652 0.29961925 0.062104 0.111111\\n9 0.4628652 0.42557325 0.062104 0.111111\\n9 0.4628652 0.55899625 0.062104 0.111111\\n10 0.4628652 0.68784725 0.062104 0.111111\\n7 0.4628652 0.81821975 0.062104 0.111111\\n9 0.5380466 0.29961925 0.062104 0.111111\\n10 0.5380466 0.42557325 0.062104 0.111111\\n11 0.5380466 0.55899625 0.062104 0.111111\\n10 0.5380466 0.68784725 0.062104 0.111111\\n8 0.5380466 0.81821975 0.062104 0.111111')"
      ]
     },
     "execution_count": 64,
     "metadata": {},
     "output_type": "execute_result"
    }
   ],
   "source": [
    "import re\n",
    "\n",
    "rep = {\"condition1\": \"\", \"condition2\": \"text\"} # define desired replacements here\n",
    "\n",
    "# use these three lines to do the replacement\n",
    "def replace_template(rep, template=template):\n",
    "    rep = dict((re.escape(k), str(v)) for k, v in rep.items()) \n",
    "    pattern = re.compile(\"|\".join(rep.keys()))\n",
    "    text = pattern.sub(lambda m: rep[re.escape(m.group(0))], template)\n",
    "    return text\n",
    "\n",
    "obj_yolos = {k: replace_template(v) for k, v in obj_yolo_replaces.items()}\n",
    "next(iter(obj_yolos.items()))"
   ]
  },
  {
   "cell_type": "code",
   "execution_count": 65,
   "id": "b150d8cb-d957-499b-9d26-e2a73d95c041",
   "metadata": {},
   "outputs": [],
   "source": [
    "import os\n",
    "import glob\n",
    "\n",
    "image_path = \"images\"\n",
    "label_path = \"labels\"\n",
    "not_found = []\n",
    "\n",
    "for img in glob.glob(os.path.join(image_path, \"*.jpg\")):\n",
    "    img = os.path.basename(img)\n",
    "    try:\n",
    "        yolo = obj_yolos[img]\n",
    "        stem = os.path.splitext(img)[0]\n",
    "        with open(os.path.join(label_path, f\"{stem}.txt\"), \"w\") as f:\n",
    "            f.write(yolo)\n",
    "    except KeyError:\n",
    "        not_found.append(img)\n",
    "        os.remove(os.path.join(image_path, img))"
   ]
  },
  {
   "cell_type": "code",
   "execution_count": 66,
   "id": "4fc49633-7d4b-41b8-b162-d7426728e042",
   "metadata": {},
   "outputs": [
    {
     "data": {
      "text/plain": [
       "[]"
      ]
     },
     "execution_count": 66,
     "metadata": {},
     "output_type": "execute_result"
    }
   ],
   "source": [
    "not_found"
   ]
  },
  {
   "cell_type": "code",
   "execution_count": 75,
   "id": "e51965c0-7cc1-4495-830e-4d41434864b5",
   "metadata": {},
   "outputs": [
    {
     "data": {
      "text/plain": [
       "(5309, 'images\\\\Screenshot_20230410-232514.jpg')"
      ]
     },
     "execution_count": 75,
     "metadata": {},
     "output_type": "execute_result"
    }
   ],
   "source": [
    "import glob\n",
    "images = list(glob.glob(os.path.join(image_path, \"*.jpg\")))\n",
    "len(images), images[0]"
   ]
  },
  {
   "cell_type": "code",
   "execution_count": 77,
   "id": "a90d57e6-0433-4493-b6b5-cf8e7aec4753",
   "metadata": {},
   "outputs": [
    {
     "data": {
      "text/plain": [
       "(4248, 1061)"
      ]
     },
     "execution_count": 77,
     "metadata": {},
     "output_type": "execute_result"
    }
   ],
   "source": [
    "import numpy as np\n",
    "\n",
    "frac = 0.2\n",
    "n_test = int(len(images)*frac)\n",
    "n_train = len(images) - n_test\n",
    "\n",
    "images_1 = list(images)\n",
    "np.random.shuffle(images_1)\n",
    "train = images_1[:n_train]\n",
    "test = images_1[n_train:]\n",
    "assert len(test) == n_test\n",
    "len(train), len(test)"
   ]
  },
  {
   "cell_type": "code",
   "execution_count": 78,
   "id": "bafc0711-4c16-4e91-bf95-4b820d8b9f0a",
   "metadata": {},
   "outputs": [],
   "source": [
    "with open(\"train.txt\", \"w\") as f:\n",
    "    f.write(\"\\n\".join(train))\n",
    "with open(\"test.txt\", \"w\") as f:\n",
    "    f.write(\"\\n\".join(test))"
   ]
  },
  {
   "cell_type": "code",
   "execution_count": null,
   "id": "72be9d47-701f-4e02-a173-d0d9d858a9a0",
   "metadata": {},
   "outputs": [],
   "source": []
  }
 ],
 "metadata": {
  "kernelspec": {
   "display_name": "Python 3 (ipykernel)",
   "language": "python",
   "name": "python3"
  },
  "language_info": {
   "codemirror_mode": {
    "name": "ipython",
    "version": 3
   },
   "file_extension": ".py",
   "mimetype": "text/x-python",
   "name": "python",
   "nbconvert_exporter": "python",
   "pygments_lexer": "ipython3",
   "version": "3.10.9"
  }
 },
 "nbformat": 4,
 "nbformat_minor": 5
}
