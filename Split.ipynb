{
 "cells": [
  {
   "cell_type": "code",
   "execution_count": 1,
   "id": "bc0c041a-7ade-4df9-a3ef-9803e9cd236f",
   "metadata": {},
   "outputs": [],
   "source": [
    "image_path = \"images\""
   ]
  },
  {
   "cell_type": "code",
   "execution_count": 3,
   "id": "a7e3f733-4e4b-4105-8287-251e200a6b6e",
   "metadata": {},
   "outputs": [
    {
     "data": {
      "text/plain": [
       "(5309, 'images\\\\Screenshot_20230410-232514.jpg')"
      ]
     },
     "execution_count": 3,
     "metadata": {},
     "output_type": "execute_result"
    }
   ],
   "source": [
    "import glob\n",
    "import os\n",
    "images = list(glob.glob(os.path.join(image_path, \"*.jpg\")))\n",
    "len(images), images[0]"
   ]
  },
  {
   "cell_type": "code",
   "execution_count": 5,
   "id": "ecfd3872-34fb-4b69-a1e6-cba70e59d3e4",
   "metadata": {},
   "outputs": [
    {
     "name": "stdout",
     "output_type": "stream",
     "text": [
      "Autosplitting images from images, using *.txt labeled images only\n"
     ]
    },
    {
     "name": "stderr",
     "output_type": "stream",
     "text": [
      "100%|██████████| 5309/5309 [00:01<00:00, 3520.98it/s]\n"
     ]
    }
   ],
   "source": [
    "from ultralytics.data.utils import autosplit\n",
    "\n",
    "autosplit(\n",
    "    path=image_path,\n",
    "    weights=(0.8, 0.2, 0.0),\n",
    "    annotated_only=True\n",
    ")"
   ]
  },
  {
   "cell_type": "code",
   "execution_count": null,
   "id": "71c13fe4-9930-45e4-b786-bfd2685f4892",
   "metadata": {},
   "outputs": [],
   "source": []
  }
 ],
 "metadata": {
  "kernelspec": {
   "display_name": "Python 3 (ipykernel)",
   "language": "python",
   "name": "python3"
  },
  "language_info": {
   "codemirror_mode": {
    "name": "ipython",
    "version": 3
   },
   "file_extension": ".py",
   "mimetype": "text/x-python",
   "name": "python",
   "nbconvert_exporter": "python",
   "pygments_lexer": "ipython3",
   "version": "3.10.9"
  }
 },
 "nbformat": 4,
 "nbformat_minor": 5
}
